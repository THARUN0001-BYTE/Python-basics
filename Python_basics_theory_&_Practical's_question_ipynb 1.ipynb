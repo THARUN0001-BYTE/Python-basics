{
  "cells": [
    {
      "cell_type": "markdown",
      "metadata": {
        "id": "IGJIWHKOl6u7"
      },
      "source": [
        "#Python Basics Theory Questions\n",
        "\n"
      ]
    },
    {
      "cell_type": "code",
      "execution_count": null,
      "metadata": {
        "id": "VlKYJaOVdFTK"
      },
      "outputs": [],
      "source": []
    },
    {
      "cell_type": "markdown",
      "metadata": {
        "id": "ph4pG7atm9fP"
      },
      "source": [
        "1. What is Python, and why is it popular?\n",
        "   \n",
        "   -> Python is a high-level, interpreted programming language known for its simplicity and readability.\n",
        "\n",
        " Popularity reasons:\n",
        "\n",
        "Easy syntax (close to English)\n",
        "\n",
        "Huge community and libraries\n",
        "\n",
        "Versatile: used in web dev, data science, automation, AI, etc.\n",
        "\n"
      ]
    },
    {
      "cell_type": "markdown",
      "metadata": {
        "id": "yRH2nkAlnc3i"
      },
      "source": [
        "2. What is an interpreter in Python?\n",
        "\n",
        "  -> An interpreter executes Python code line by line. It reads and converts Python code into machine code at runtime, making it easier to debug and test code interactively."
      ]
    },
    {
      "cell_type": "markdown",
      "metadata": {
        "id": "7dZBYNHXns9U"
      },
      "source": [
        "3. What are pre-defined keywords in Python?\n",
        "\n",
        "   ->Keywords are reserved words in Python that have special meanings.\n",
        "Examples: if, else, for, while, def, return, etc.\n"
      ]
    },
    {
      "cell_type": "markdown",
      "metadata": {
        "id": "uP5M6J2ioFIG"
      },
      "source": [
        " 4. Can keywords be used as variable names?\n",
        "  \n",
        "  ->  No, keywords cannot be used as variable names. Doing so will cause a SyntaxError."
      ]
    },
    {
      "cell_type": "markdown",
      "metadata": {
        "id": "2tTGl8qOoN_N"
      },
      "source": [
        "5. What is mutability in Python?\n",
        "   \n",
        "   ->Mutability refers to whether an object can be changed after it's created.\n",
        "\n",
        "Mutable objects: Can change (e.g., lists, dictionaries)\n",
        "\n",
        "Immutable objects: Cannot change (e.g., strings, tuples)"
      ]
    },
    {
      "cell_type": "markdown",
      "metadata": {
        "id": "mIqBkw--oZme"
      },
      "source": [
        "6. Why are lists mutable, but tuples are immutable?\n",
        "  \n",
        "  ->Lists are designed for dynamic data; you can add, remove, or change items. Tuples are for fixed collections of items — their immutability makes them faster and hashable (usable as dictionary keys).\n",
        "\n"
      ]
    },
    {
      "cell_type": "markdown",
      "metadata": {
        "id": "y7tCDKdZmy40"
      },
      "source": []
    },
    {
      "cell_type": "markdown",
      "metadata": {
        "id": "zWCEW9TToqtI"
      },
      "source": [
        "7. What is the difference between == and is in Python?\n",
        "\n",
        "  -> == checks value equality → whether values are the same\n",
        "\n",
        "is checks identity → whether two variables point to the same object in memory\n",
        "\n",
        "python\n",
        "Copy\n",
        "Edit\n",
        "a = [1, 2]\n",
        "b = [1, 2]\n",
        "a == b  # True\n",
        "a is b  # False"
      ]
    },
    {
      "cell_type": "markdown",
      "metadata": {
        "id": "rUXkQXu3nRYt"
      },
      "source": []
    },
    {
      "cell_type": "markdown",
      "metadata": {
        "id": "03wOsTyXo14a"
      },
      "source": [
        "8. What are logical operators in Python?\n",
        "\n",
        "   ->Logical operators are used to combine conditional statements:\n",
        "\n",
        "and → True if both are True\n",
        "\n",
        "or → True if either is True\n",
        "\n",
        "not → Reverses the result\n",
        "\n"
      ]
    },
    {
      "cell_type": "markdown",
      "metadata": {
        "id": "XUpxRl1_pA1-"
      },
      "source": [
        "9. What is type casting in Python?\n",
        "   \n",
        "   ->Type casting means converting one data type to another.\n",
        "Example: int(\"5\") converts a string \"5\" to an integer 5."
      ]
    },
    {
      "cell_type": "markdown",
      "metadata": {
        "id": "UnZyRU_gnbXE"
      },
      "source": []
    },
    {
      "cell_type": "markdown",
      "metadata": {
        "id": "UIve6uV3pKLW"
      },
      "source": [
        "10. What is the difference between implicit and explicit type casting?\n",
        "\n",
        "  -> Implicit casting: Python automatically converts the type\n",
        "x = 5 + 3.0 → x becomes 8.0 (int to float)\n",
        "\n",
        "Explicit casting: You manually convert the type\n",
        "int(\"7\") or float(\"3.14\")"
      ]
    },
    {
      "cell_type": "markdown",
      "metadata": {
        "id": "4DaHR8YypUy6"
      },
      "source": [
        "11. What is the purpose of conditional statements in Python?\n",
        "  \n",
        "   ->Conditional statements (if, else, elif) allow the program to make decisions and execute different blocks of code based on conditions."
      ]
    },
    {
      "cell_type": "markdown",
      "metadata": {
        "id": "QF6bmES1pUSC"
      },
      "source": []
    },
    {
      "cell_type": "markdown",
      "metadata": {
        "id": "uxYORXwspeJS"
      },
      "source": [
        "12. How does the elif statement work?\n",
        "\n",
        "   ->elif (short for else if) checks another condition if the previous if was false.\n",
        "\n",
        "python\n",
        "Copy\n",
        "Edit\n",
        "if x > 0:\n",
        "    print(\"Positive\")\n",
        "elif x == 0:\n",
        "    print(\"Zero\")\n",
        "else:\n",
        "    print(\"Negative\")"
      ]
    },
    {
      "cell_type": "code",
      "execution_count": null,
      "metadata": {
        "id": "jibWZf5xpS_c"
      },
      "outputs": [],
      "source": []
    },
    {
      "cell_type": "markdown",
      "metadata": {
        "id": "oslpmF79ptUo"
      },
      "source": [
        " 13. What is the difference between for and while loops?\n",
        "\n",
        "     -> for loop: Used when you know the number of iterations\n",
        "\n",
        "while loop: Used when the loop should run as long as a condition is true"
      ]
    },
    {
      "cell_type": "markdown",
      "metadata": {
        "id": "F4q5rKrgppqv"
      },
      "source": []
    },
    {
      "cell_type": "markdown",
      "metadata": {
        "id": "ASC-9JNrp2_E"
      },
      "source": [
        "14. Describe a scenario where a while loop is more suitable than a for loop.\n",
        "\n",
        "   ->Example: Waiting for user input until they type “exit”:\n",
        "\n",
        "python\n",
        "Copy\n",
        "Edit\n",
        "user_input = \"\"\n",
        "while user_input != \"exit\":\n",
        "    user_input = input(\"Type 'exit' to stop: \")\n",
        "This keeps running until the user types \"exit\" — perfect for while!\n",
        "\n"
      ]
    },
    {
      "cell_type": "markdown",
      "metadata": {
        "id": "iYZqyJTDq_H-"
      },
      "source": [
        "# Python Practical Questions"
      ]
    },
    {
      "cell_type": "code",
      "execution_count": null,
      "metadata": {
        "id": "DjawfpVTtUWR"
      },
      "outputs": [],
      "source": []
    },
    {
      "cell_type": "markdown",
      "metadata": {
        "id": "ePEbkIk8rT4G"
      },
      "source": [
        "1.Print \"Hello, World!\"\n",
        "\n",
        "\n",
        "print(\"Hello, World!\")"
      ]
    },
    {
      "cell_type": "markdown",
      "metadata": {
        "id": "4tWpgKS8tWrA"
      },
      "source": [
        "2.Display your name and age\n",
        "\n",
        "name = \"Alice\"\n",
        "\n",
        "age = 25\n",
        "\n",
        "print(f\"My name is {name} and I am {age} years old.\")"
      ]
    },
    {
      "cell_type": "markdown",
      "metadata": {
        "id": "WimTmtJEtNqA"
      },
      "source": [
        "3.Print all Python keywords using the keyword module\n",
        "\n",
        "import keyword\n",
        "\n",
        "print(\"Python Keywords:\")\n",
        "\n",
        "print(keyword.kwlist)\n"
      ]
    },
    {
      "cell_type": "markdown",
      "metadata": {
        "id": "lMVmrKeItiXh"
      },
      "source": [
        "4.Check if a given word is a Python keyword\n",
        "\n",
        "import keyword\n",
        "\n",
        "word = input(\"Enter a word: \")\n",
        "\n",
        "if keyword.iskeyword(word):\n",
        "\n",
        "    print(f\"'{word}' is a Python keyword.\")\n",
        "else:\n",
        "    print(f\"'{word}' is not a Python keyword.\")"
      ]
    },
    {
      "cell_type": "markdown",
      "metadata": {
        "id": "w-ORACP3rQKQ"
      },
      "source": []
    },
    {
      "cell_type": "markdown",
      "metadata": {
        "id": "MJIVMYymuAuR"
      },
      "source": [
        "5.Function to demonstrate mutable and immutable arguments\n",
        "\n",
        "\n",
        "def modify_data(my_list, my_number):\n",
        "\n",
        "    my_list.append(100)\n",
        "\n",
        "    my_number += 10\n",
        "\n",
        "    print(\"Inside function - list:\", my_list)\n",
        "\n",
        "    print(\"Inside function - number:\", my_number)\n",
        "\n",
        "\n",
        "lst = [1, 2, 3]\n",
        "\n",
        "num = 5\n",
        "\n",
        "modify_data(lst, num)\n",
        "\n",
        "print(\"Outside function - list:\", lst)      # List changes\n",
        "\n",
        "print(\"Outside function - number:\", num)    # Number remains the same"
      ]
    },
    {
      "cell_type": "markdown",
      "metadata": {
        "id": "etTGpnCjuNop"
      },
      "source": [
        "6.Basic arithmetic operations on two user-input numbers\n",
        "\n",
        "a = float(input(\"Enter first number: \"))\n",
        "\n",
        "b = float(input(\"Enter second number: \"))\n",
        "\n",
        "\n",
        "print(\"Sum:\", a + b)\n",
        "\n",
        "print(\"Difference:\", a - b)\n",
        "\n",
        "print(\"Product:\", a * b)\n",
        "\n",
        "print(\"Quotient:\", a / b if b != 0 else \"Cannot divide by zero\")"
      ]
    },
    {
      "cell_type": "markdown",
      "metadata": {
        "id": "jszfIMbytSGR"
      },
      "source": []
    },
    {
      "cell_type": "markdown",
      "metadata": {
        "id": "iR8iCvSluYnI"
      },
      "source": [
        "7.Demonstrate logical operators\n",
        "\n",
        "\n",
        "x = int(input(\"Enter a number: \"))\n",
        "\n",
        "\n",
        "print(x > 0 and x < 100)\n",
        "   # True if x is between 1 and 99\n",
        "print(x < 0 or x > 100)\n",
        "    # True if x is outside 0-100\n",
        "print(not x == 0)     \n",
        "     # True if x is not zero"
      ]
    },
    {
      "cell_type": "code",
      "execution_count": null,
      "metadata": {
        "id": "vipzvbfKujeM"
      },
      "outputs": [],
      "source": []
    },
    {
      "cell_type": "markdown",
      "metadata": {
        "id": "e39JQeHLuoLD"
      },
      "source": [
        "8.List vs Tuple: Mutability\n",
        "\n",
        "my_list = [1, 2, 3]\n",
        "\n",
        "my_tuple = (1, 2, 3)\n",
        "\n",
        "\n",
        "# Modifying list\n",
        "my_list[0] = 10\n",
        "\n",
        "print(\"Modified list:\", my_list)\n",
        "\n",
        "# Attempting to modify tuple (will cause an error)\n",
        "\n",
        "try:\n",
        "    my_tuple[0] = 10\n",
        "\n",
        "except TypeError as e:\n",
        "\n",
        "    print(\"Tuple error:\", e)"
      ]
    },
    {
      "cell_type": "code",
      "execution_count": null,
      "metadata": {
        "id": "SO2wYRtLvBfa"
      },
      "outputs": [],
      "source": []
    },
    {
      "cell_type": "markdown",
      "metadata": {
        "id": "Z86SR5SRvUtG"
      },
      "source": [
        "9.Convert user input to int, float, and boolean\n",
        "\n",
        "user_input = input(\"Enter a value: \")\n",
        "\n",
        "\n",
        "int_val = int(user_input)\n",
        "\n",
        "float_val = float(user_input)\n",
        "\n",
        "bool_val = bool(user_input)\n",
        "\n",
        "print(\"Integer:\", int_val)\n",
        "\n",
        "print(\"Float:\", float_val)\n",
        "\n",
        "print(\"Boolean:\", bool_val)"
      ]
    },
    {
      "cell_type": "markdown",
      "metadata": {
        "id": "R2CRME0SvDW3"
      },
      "source": []
    },
    {
      "cell_type": "markdown",
      "metadata": {
        "id": "brw6_68pvkHv"
      },
      "source": [
        "10.Type casting list elements\n",
        "\n",
        "\n",
        "str_list = [\"1\", \"2\", \"3\"]\n",
        "\n",
        "int_list = list(map(int, str_list))\n",
        "\n",
        "print(\"Original:\", str_list)\n",
        "\n",
        "print(\"Converted to integers:\", int_list)"
      ]
    },
    {
      "cell_type": "code",
      "execution_count": null,
      "metadata": {
        "id": "ApF3YJyjvpOs"
      },
      "outputs": [],
      "source": []
    },
    {
      "cell_type": "markdown",
      "metadata": {
        "id": "J0Ty2qHbvqKW"
      },
      "source": [
        "11.Check if a number is positive, negative, or zero\n",
        "\n",
        "num = float(input(\"Enter a number: \"))\n",
        "\n",
        "if num > 0:\n",
        "\n",
        "    print(\"Positive\")\n",
        "\n",
        "elif num < 0:\n",
        "\n",
        "    print(\"Negative\")\n",
        "else:\n",
        "\n",
        "    print(\"Zero\")"
      ]
    },
    {
      "cell_type": "code",
      "execution_count": null,
      "metadata": {
        "id": "uanyXSpov53I"
      },
      "outputs": [],
      "source": []
    },
    {
      "cell_type": "markdown",
      "metadata": {
        "id": "POyiQ7ekv-m2"
      },
      "source": [
        "12.For loop to print numbers from 1 to 10\n",
        "\n",
        "for i in range(1, 11):\n",
        "\n",
        "    print(i)"
      ]
    },
    {
      "cell_type": "markdown",
      "metadata": {
        "id": "bOtVskSOwHYL"
      },
      "source": [
        "13 Sum of all even numbers between 1 and 50\n",
        "\n",
        "total = 0\n",
        "\n",
        "for i in range(2, 51, 2):\n",
        "\n",
        "    total += i\n",
        "    \n",
        "print(\"Sum of even numbers from 1 to 50:\", total)"
      ]
    },
    {
      "cell_type": "markdown",
      "metadata": {
        "id": "FoETOCi2v7OJ"
      },
      "source": []
    },
    {
      "cell_type": "markdown",
      "metadata": {
        "id": "BWRWz1IGwN2p"
      },
      "source": [
        "14.Reverse a string using a while loop\n",
        "\n",
        "text = input(\"Enter a string: \")\n",
        "\n",
        "reversed_text = \"\"\n",
        "\n",
        "i = len(text) - 1\n",
        "\n",
        "\n",
        "while i >= 0:\n",
        "\n",
        "    reversed_text += text[i]\n",
        "  \n",
        "    i -= 1\n",
        "\n",
        "print(\"Reversed string:\", reversed_text)"
      ]
    },
    {
      "cell_type": "code",
      "execution_count": null,
      "metadata": {
        "id": "Km2YKWrHwV3q"
      },
      "outputs": [],
      "source": []
    },
    {
      "cell_type": "markdown",
      "metadata": {
        "id": "cz1V4YHkwXFs"
      },
      "source": [
        "15.Factorial using a while loop\n",
        "\n",
        "n = int(input(\"Enter a number: \"))\n",
        "\n",
        "factorial = 1\n",
        "\n",
        "i = 1\n",
        "\n",
        "while i <= n:\n",
        "\n",
        "    factorial *= i\n",
        "    \n",
        "    i += 1\n",
        "\n",
        "print(\"Factorial of\", n, \"is\", factorial)"
      ]
    },
    {
      "cell_type": "code",
      "execution_count": null,
      "metadata": {
        "id": "XwzNlTJMwhZe"
      },
      "outputs": [],
      "source": []
    }
  ],
  "metadata": {
    "colab": {
      "provenance": []
    },
    "kernelspec": {
      "display_name": "Python 3",
      "name": "python3"
    },
    "language_info": {
      "name": "python"
    }
  },
  "nbformat": 4,
  "nbformat_minor": 0
}
